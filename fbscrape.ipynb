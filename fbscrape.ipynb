{
 "cells": [
  {
   "cell_type": "code",
   "execution_count": 85,
   "metadata": {},
   "outputs": [],
   "source": [
    "from selenium import webdriver\n",
    "from selenium.webdriver.common.keys import Keys\n",
    "from selenium.webdriver.support.ui import WebDriverWait\n",
    "from selenium.webdriver.support import expected_conditions as EC\n",
    "from selenium.common.exceptions import TimeoutException, NoSuchElementException\n",
    "from selenium.webdriver.common.by import By\n",
    "import getpass\n",
    "import time"
   ]
  },
  {
   "cell_type": "code",
   "execution_count": 92,
   "metadata": {},
   "outputs": [],
   "source": [
    "# initialize browser\n",
    "browser = webdriver.Firefox()"
   ]
  },
  {
   "cell_type": "code",
   "execution_count": 93,
   "metadata": {},
   "outputs": [],
   "source": [
    "# set a time to wait before every DOM item retrieval\n",
    "browser.implicitly_wait(5)"
   ]
  },
  {
   "cell_type": "code",
   "execution_count": 94,
   "metadata": {},
   "outputs": [],
   "source": [
    "# navigate to facebook\n",
    "browser.get('http://www.facebook.com')"
   ]
  },
  {
   "cell_type": "code",
   "execution_count": 95,
   "metadata": {},
   "outputs": [
    {
     "name": "stdout",
     "output_type": "stream",
     "text": [
      "Enter email: awaaab10@gmail.com\n",
      "Enter password: ········\n"
     ]
    }
   ],
   "source": [
    "# enter login cridentials and login\n",
    "# skip if already logged in\n",
    "username_input_box = browser.find_element_by_id(\"email\")\n",
    "password_input_box = browser.find_element_by_id(\"pass\")\n",
    "submit_button  = browser.find_element_by_id(\"loginbutton\")\n",
    "email = input(\"Enter email: \")\n",
    "password = getpass.getpass(\"Enter password: \")\n",
    "username_input_box.send_keys(email)\n",
    "password_input_box.send_keys(password)\n",
    "submit_button.click()"
   ]
  },
  {
   "cell_type": "code",
   "execution_count": 96,
   "metadata": {},
   "outputs": [],
   "source": [
    "def wait_get_element(browser, wait, by_type, by_value):\n",
    "    try:\n",
    "        element = WebDriverWait(browser, wait).until(\n",
    "            EC.presence_of_element_located((by_type, by_value))\n",
    "        )\n",
    "    except TimeoutException:\n",
    "        print(f'TIME OUT, WAITED FOR {wait}s for element {by_value}')\n",
    "        return None\n",
    "    return element"
   ]
  },
  {
   "cell_type": "code",
   "execution_count": 97,
   "metadata": {},
   "outputs": [
    {
     "name": "stdout",
     "output_type": "stream",
     "text": [
      "Enter search text: kendrick lamar\n",
      "DONE\n"
     ]
    }
   ],
   "source": [
    "# navigate to facebook, enter and search text through facebook search bar\n",
    "# browser.get('http://www.facebook.com')\n",
    "\n",
    "search_box = wait_get_element(browser, 10, By.XPATH, '//input[@aria-label=\"Search Facebook\"]')\n",
    "if search_box:\n",
    "    search_text = input(\"Enter search text: \")\n",
    "    search_box.send_keys(search_text)\n",
    "    search_box.send_keys(Keys.RETURN)\n",
    "    search_box.send_keys(Keys.RETURN)\n",
    "\n",
    "search_posts_option = wait_get_element(browser, 3, By.XPATH, '//span[text()=\"Posts\"]')\n",
    "if search_posts_option:\n",
    "    search_posts_option.click()\n",
    "\n",
    "search_filter =  wait_get_element(browser, 3, By.XPATH, '//span[text()=\"Posts From\"]')\n",
    "if search_filter:\n",
    "    search_filter.click()\n",
    "\n",
    "filter_allow_only_public = wait_get_element(browser, 10, By.XPATH, '//span[text()=\"Public Posts\"]/..')\n",
    "if filter_allow_only_public:\n",
    "    browser.execute_script(\"arguments[0].click();\", filter_allow_only_public)\n",
    "    print(\"DONE\")"
   ]
  },
  {
   "cell_type": "code",
   "execution_count": 102,
   "metadata": {},
   "outputs": [
    {
     "name": "stdout",
     "output_type": "stream",
     "text": [
      "DONE\n"
     ]
    }
   ],
   "source": [
    "results_file = open(\"results.txt\", \"w\")\n",
    "i = 1\n",
    "max_posts = 20\n",
    "scroll_wait_time = 30\n",
    "retry_wait_time = 30\n",
    "retry = False\n",
    "while i <= max_posts:\n",
    "    ith_post_xpath = f'/html/body/div[1]/div/div/div[1]/div[3]/div/div/div[1]/div/div[2]/div/div/div/div/div/div/div[{i}]/div/div/div/div/div[3]/a/div[1]/div[1]/span/div'\n",
    "    try:\n",
    "        element = browser.find_element(By.XPATH, ith_post_xpath)\n",
    "    except NoSuchElementException:\n",
    "        if not retry:\n",
    "            browser.execute_script(\"window.scrollTo(0,document.body.scrollHeight)\")\n",
    "        element = wait_get_element(browser, scroll_wait_time, By.XPATH, ith_post_xpath)\n",
    "    if element:\n",
    "        results_file.write(element.text)\n",
    "        results_file.write('\\n')\n",
    "        retry = False\n",
    "        i += 1\n",
    "    else:\n",
    "        print(f'Failed to retrieve {i}th post. Retrying..')\n",
    "        retry = True\n",
    "        time.sleep(retry_wait_time)\n",
    "results_file.close()\n",
    "print(\"DONE\")"
   ]
  },
  {
   "cell_type": "code",
   "execution_count": null,
   "metadata": {},
   "outputs": [],
   "source": []
  }
 ],
 "metadata": {
  "kernelspec": {
   "display_name": "env_fb_scrape",
   "language": "python",
   "name": "env_fb_scrape"
  },
  "language_info": {
   "codemirror_mode": {
    "name": "ipython",
    "version": 3
   },
   "file_extension": ".py",
   "mimetype": "text/x-python",
   "name": "python",
   "nbconvert_exporter": "python",
   "pygments_lexer": "ipython3",
   "version": "3.7.6"
  }
 },
 "nbformat": 4,
 "nbformat_minor": 4
}
